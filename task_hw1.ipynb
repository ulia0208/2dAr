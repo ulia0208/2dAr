{
  "nbformat": 4,
  "nbformat_minor": 0,
  "metadata": {
    "colab": {
      "provenance": [],
      "authorship_tag": "ABX9TyNe75vbVHJgEjepdQtInwck",
      "include_colab_link": true
    },
    "kernelspec": {
      "name": "python3",
      "display_name": "Python 3"
    },
    "language_info": {
      "name": "python"
    }
  },
  "cells": [
    {
      "cell_type": "markdown",
      "metadata": {
        "id": "view-in-github",
        "colab_type": "text"
      },
      "source": [
        "<a href=\"https://colab.research.google.com/github/ulia0208/2dAr/blob/main/task_hw1.ipynb\" target=\"_parent\"><img src=\"https://colab.research.google.com/assets/colab-badge.svg\" alt=\"Open In Colab\"/></a>"
      ]
    },
    {
      "cell_type": "code",
      "execution_count": 112,
      "metadata": {
        "colab": {
          "base_uri": "https://localhost:8080/"
        },
        "id": "EBy7pMXWZr7d",
        "outputId": "7b97faec-c23b-4b28-970d-004c497ad83a"
      },
      "outputs": [
        {
          "output_type": "execute_result",
          "data": {
            "text/plain": [
              "4.0"
            ]
          },
          "metadata": {},
          "execution_count": 112
        }
      ],
      "source": [
        "\n",
        "# Задача 40: Работать с файлом california_housing_train.csv, который находится в папке\n",
        "# sample_data. Определить среднюю стоимость дома, где кол-во людей от 0 до 500 (population)\n",
        "\n",
        "\n",
        "# Задача 42: Узнать какая максимальная households в зоне минимального значения population\n",
        "\n",
        "import pandas as pd\n",
        "\n",
        "df=pd.read_csv('sample_data/california_housing_train.csv')\n",
        "\n",
        "df\n",
        "\n",
        "df[(df['population']>=0)&(df['population']<=500)]['median_house_value'].mean()\n",
        "\n",
        "df\n",
        "\n",
        "df[df['population']==df['population'].min()]['households'].max()\n",
        "\n",
        "\n"
      ]
    }
  ]
}