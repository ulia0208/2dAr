{
  "nbformat": 4,
  "nbformat_minor": 0,
  "metadata": {
    "colab": {
      "provenance": [],
      "authorship_tag": "ABX9TyOHgFEhrOs11CVQO0RTW2Sg",
      "include_colab_link": true
    },
    "kernelspec": {
      "name": "python3",
      "display_name": "Python 3"
    },
    "language_info": {
      "name": "python"
    }
  },
  "cells": [
    {
      "cell_type": "markdown",
      "metadata": {
        "id": "view-in-github",
        "colab_type": "text"
      },
      "source": [
        "<a href=\"https://colab.research.google.com/github/ulia0208/2dAr/blob/main/task_cw1.ipynb\" target=\"_parent\"><img src=\"https://colab.research.google.com/assets/colab-badge.svg\" alt=\"Open In Colab\"/></a>"
      ]
    },
    {
      "cell_type": "code",
      "execution_count": 112,
      "metadata": {
        "colab": {
          "base_uri": "https://localhost:8080/"
        },
        "id": "EBy7pMXWZr7d",
        "outputId": "7b97faec-c23b-4b28-970d-004c497ad83a"
      },
      "outputs": [
        {
          "output_type": "execute_result",
          "data": {
            "text/plain": [
              "4.0"
            ]
          },
          "metadata": {},
          "execution_count": 112
        }
      ],
      "source": [
        "import pandas as pd\n",
        "\n",
        "df=pd.read_csv('sample_data/california_housing_train.csv')\n",
        "\n",
        "df\n",
        "df.head(n=5)\n",
        "df.shape\n",
        "df.dtypes\n",
        "\n",
        "df.isnull().sum()\n",
        "\n",
        "df\n",
        "\n",
        "df.isna().sum()\n",
        "\n",
        "df[df['median_income']<2][['median_house_value','total_rooms']]\n",
        "df.iloc[:3,3:]\n",
        "df[(df['housing_median_age']<20)&(df['total_rooms']>2000)]\n",
        "# print(df['median_house_value'].min())\n",
        "# print(df['median_house_value'].max())\n",
        "df[df['median_income']==3.1250]['median_house_value'].idxmax()\n",
        "df[df['median_house_value']==df['median_house_value'].min()]['total_rooms'].max()\n",
        "df\n",
        "df[(df['median_house_value']<80000)]['total_rooms'].min()\n",
        "\n",
        "\n",
        "# Задача 40: Работать с файлом california_housing_train.csv, который находится в папке\n",
        "# sample_data. Определить среднюю стоимость дома, где кол-во людей от 0 до 500 (population)\n",
        "\n",
        "\n",
        "# Задача 42: Узнать какая максимальная households в зоне минимального значения population\n",
        "\n",
        "df\n",
        "\n",
        "df[(df['population']>=0)&(df['population']<=500)]['median_house_value'].mean()\n",
        "\n",
        "df\n",
        "\n",
        "df[df['population']==df['population'].min()]['households'].max()\n",
        "\n",
        "\n"
      ]
    }
  ]
}